{
 "cells": [
  {
   "cell_type": "markdown",
   "id": "be4d0ab2-4203-41f9-a214-5721d7e40b19",
   "metadata": {},
   "source": [
    "q1"
   ]
  },
  {
   "cell_type": "code",
   "execution_count": 1,
   "id": "aace5201-2b41-4d29-9ca3-821bfa459452",
   "metadata": {},
   "outputs": [],
   "source": [
    "a=['rohan',[1,2,4],4.56,(56,66,'pw')]"
   ]
  },
  {
   "cell_type": "code",
   "execution_count": 2,
   "id": "e5a88fd3-2ce2-428b-81e1-ee3d3cc2d0a6",
   "metadata": {},
   "outputs": [
    {
     "data": {
      "text/plain": [
       "['rohan', [1, 2, 4], 4.56, (56, 66, 'pw')]"
      ]
     },
     "execution_count": 2,
     "metadata": {},
     "output_type": "execute_result"
    }
   ],
   "source": [
    "a"
   ]
  },
  {
   "cell_type": "markdown",
   "id": "bfba4ca6-a520-4e59-a1ec-484bcd2a85db",
   "metadata": {},
   "source": [
    "q2"
   ]
  },
  {
   "cell_type": "code",
   "execution_count": 3,
   "id": "58b55ec5-34bf-4cca-befe-bdc7575338cd",
   "metadata": {},
   "outputs": [],
   "source": [
    "var1=''"
   ]
  },
  {
   "cell_type": "code",
   "execution_count": 4,
   "id": "5f38d8a2-79f5-4ce7-89ca-9d7ce58d3fd1",
   "metadata": {},
   "outputs": [
    {
     "name": "stdout",
     "output_type": "stream",
     "text": [
      "<class 'str'>\n"
     ]
    }
   ],
   "source": [
    "print(type(var1))"
   ]
  },
  {
   "cell_type": "code",
   "execution_count": 5,
   "id": "aa476cfa-ee3e-4f77-aa2c-35d723c4ae35",
   "metadata": {},
   "outputs": [],
   "source": [
    "var2='[DS,ML,PYTHON]'"
   ]
  },
  {
   "cell_type": "code",
   "execution_count": 6,
   "id": "b51ad8b5-0985-4bb9-aa4b-d20f193d81cc",
   "metadata": {},
   "outputs": [
    {
     "name": "stdout",
     "output_type": "stream",
     "text": [
      "<class 'str'>\n"
     ]
    }
   ],
   "source": [
    "print(type(var2))"
   ]
  },
  {
   "cell_type": "code",
   "execution_count": 7,
   "id": "b95568e0-5d89-4024-84b1-1150c77ad0f5",
   "metadata": {},
   "outputs": [],
   "source": [
    "var3=['DS','ML','PYTHON']"
   ]
  },
  {
   "cell_type": "code",
   "execution_count": 8,
   "id": "75d3bdd3-185f-4984-a26b-4d71c585af9b",
   "metadata": {},
   "outputs": [
    {
     "name": "stdout",
     "output_type": "stream",
     "text": [
      "<class 'list'>\n"
     ]
    }
   ],
   "source": [
    "print(type(var3))"
   ]
  },
  {
   "cell_type": "code",
   "execution_count": 9,
   "id": "f4a4ed77-aa3f-49ec-b958-032cee1eeac2",
   "metadata": {},
   "outputs": [],
   "source": [
    "var4=1"
   ]
  },
  {
   "cell_type": "code",
   "execution_count": 10,
   "id": "861e1ebe-4a96-425f-8bb8-34adf9336241",
   "metadata": {},
   "outputs": [
    {
     "name": "stdout",
     "output_type": "stream",
     "text": [
      "<class 'int'>\n"
     ]
    }
   ],
   "source": [
    "print(type(var4))"
   ]
  },
  {
   "cell_type": "markdown",
   "id": "e63249d8-e284-48d4-acfa-09b54db9e99d",
   "metadata": {},
   "source": [
    "q3"
   ]
  },
  {
   "cell_type": "code",
   "execution_count": 11,
   "id": "b9575d79-fdec-45e8-a0d5-d73c139d3851",
   "metadata": {},
   "outputs": [
    {
     "data": {
      "text/plain": [
       "2.0"
      ]
     },
     "execution_count": 11,
     "metadata": {},
     "output_type": "execute_result"
    }
   ],
   "source": [
    "4/2"
   ]
  },
  {
   "cell_type": "code",
   "execution_count": 12,
   "id": "07c66c25-279d-455c-b3cc-8e28ed524548",
   "metadata": {},
   "outputs": [],
   "source": [
    "#this is used to divide any value by other value"
   ]
  },
  {
   "cell_type": "code",
   "execution_count": 13,
   "id": "68f3c6ff-abb9-4fb5-8431-a25bfb5605f2",
   "metadata": {},
   "outputs": [
    {
     "data": {
      "text/plain": [
       "0"
      ]
     },
     "execution_count": 13,
     "metadata": {},
     "output_type": "execute_result"
    }
   ],
   "source": [
    "10%5"
   ]
  },
  {
   "cell_type": "code",
   "execution_count": 14,
   "id": "1fc67e8e-0990-49da-b6f7-fb3c6a7f965b",
   "metadata": {},
   "outputs": [],
   "source": [
    "#thi8s operator tells us about the remainder remains after division"
   ]
  },
  {
   "cell_type": "code",
   "execution_count": 15,
   "id": "a011bb70-498a-4dba-bb26-973770344246",
   "metadata": {},
   "outputs": [
    {
     "data": {
      "text/plain": [
       "5"
      ]
     },
     "execution_count": 15,
     "metadata": {},
     "output_type": "execute_result"
    }
   ],
   "source": [
    "10//2"
   ]
  },
  {
   "cell_type": "code",
   "execution_count": 16,
   "id": "e9914120-fa00-4492-ae46-694422c2b930",
   "metadata": {},
   "outputs": [],
   "source": [
    "#it is used in floor division "
   ]
  },
  {
   "cell_type": "code",
   "execution_count": 17,
   "id": "21c70523-33dd-4020-8785-d5e149d747b4",
   "metadata": {},
   "outputs": [
    {
     "data": {
      "text/plain": [
       "100000"
      ]
     },
     "execution_count": 17,
     "metadata": {},
     "output_type": "execute_result"
    }
   ],
   "source": [
    "10**5"
   ]
  },
  {
   "cell_type": "code",
   "execution_count": 18,
   "id": "c9c5ed1d-17e3-4306-a2ff-4c3c7640a7e7",
   "metadata": {},
   "outputs": [],
   "source": [
    "#this operator tells us about the power of 10 when it is raised to 5 times "
   ]
  },
  {
   "cell_type": "markdown",
   "id": "77c8d359-35ce-4813-959e-cf8538a54b3d",
   "metadata": {},
   "source": [
    "q4"
   ]
  },
  {
   "cell_type": "code",
   "execution_count": 19,
   "id": "e1e3132e-f665-4c1b-adf7-61a155ddf71f",
   "metadata": {},
   "outputs": [],
   "source": [
    "l=[1,2,5,6,7,'rohan',5.67,(45,454,476),4.65,[23,45]]"
   ]
  },
  {
   "cell_type": "code",
   "execution_count": 22,
   "id": "ce697983-ecb6-4892-8773-0149e207e5c2",
   "metadata": {},
   "outputs": [
    {
     "name": "stdout",
     "output_type": "stream",
     "text": [
      "1\n",
      "<class 'int'>\n",
      "2\n",
      "<class 'int'>\n",
      "5\n",
      "<class 'int'>\n",
      "6\n",
      "<class 'int'>\n",
      "7\n",
      "<class 'int'>\n",
      "rohan\n",
      "<class 'str'>\n",
      "5.67\n",
      "<class 'float'>\n",
      "(45, 454, 476)\n",
      "<class 'tuple'>\n",
      "4.65\n",
      "<class 'float'>\n",
      "[23, 45]\n",
      "<class 'list'>\n"
     ]
    }
   ],
   "source": [
    "for i in l :\n",
    "    print(i)\n",
    "    print(type(i))"
   ]
  },
  {
   "cell_type": "code",
   "execution_count": 30,
   "id": "62aedc57-a931-45f5-a0a7-48aefc0cbf19",
   "metadata": {},
   "outputs": [
    {
     "name": "stdout",
     "output_type": "stream",
     "text": [
      "a is divisible by 1\n"
     ]
    }
   ],
   "source": [
    "a=12\n",
    "b=4\n",
    "count=0\n",
    "while a%b==0:\n",
    "    a=a/b\n",
    "    count +=1\n",
    "if count>0 :\n",
    "    print(\"a is divisible by\", count)\n",
    "else:\n",
    "    print('a is not divisible by b')"
   ]
  },
  {
   "cell_type": "markdown",
   "id": "0e36272e-6bdc-412d-a35b-7cf353f9bc76",
   "metadata": {},
   "source": [
    "q6"
   ]
  },
  {
   "cell_type": "code",
   "execution_count": 31,
   "id": "436823b5-236a-4a97-88b6-b3ccb859ac81",
   "metadata": {},
   "outputs": [
    {
     "name": "stdout",
     "output_type": "stream",
     "text": [
      "2 is not divisble by 3\n",
      "3 is divisible by 3\n",
      "4 is not divisble by 3\n",
      "5 is not divisble by 3\n",
      "6 is divisible by 3\n",
      "7 is not divisble by 3\n",
      "8 is not divisble by 3\n",
      "9 is divisible by 3\n",
      "23 is not divisble by 3\n",
      "4 is not divisble by 3\n",
      "5 is not divisble by 3\n",
      "5 is not divisble by 3\n",
      "6 is divisible by 3\n",
      "6 is divisible by 3\n",
      "76 is not divisble by 3\n",
      "7 is not divisble by 3\n",
      "8 is not divisble by 3\n",
      "8 is not divisble by 3\n",
      "8 is not divisble by 3\n",
      "12 is divisible by 3\n",
      "24 is divisible by 3\n",
      "54 is divisible by 3\n",
      "4 is not divisble by 3\n",
      "6 is divisible by 3\n",
      "78 is divisible by 3\n"
     ]
    }
   ],
   "source": [
    "numbers = [2,3,4,5,6,7,8,9,23,4,5,5,6,6,76,7,8,8,8,12,24,54,4,6,78]\n",
    "for num in numbers:\n",
    "    if num % 3 ==0 :\n",
    "        print(num, \"is divisible by 3\")\n",
    "    else:\n",
    "        print(num, \"is not divisble by 3\")"
   ]
  },
  {
   "cell_type": "markdown",
   "id": "32c90a84-b761-4da0-9c82-8df7247c9264",
   "metadata": {},
   "source": [
    "q7"
   ]
  },
  {
   "cell_type": "code",
   "execution_count": null,
   "id": "abdcf2fb-28d2-4d4a-846a-e5298b40bb7d",
   "metadata": {},
   "outputs": [],
   "source": []
  },
  {
   "cell_type": "markdown",
   "id": "1d2c7c05-dc98-4275-a9fb-f90b9da820b5",
   "metadata": {},
   "source": [
    "immutbale data types objects are those values cannot be changed after they are created. any operations performed on immutable \n",
    "object creates a new object creates a new object with the modified value, leaving the original object unchanged. ex int, str, float\n",
    "tuples.\n",
    "\n",
    "\n",
    "mutable data types are those values can be modified after they are created. changes made to a mutable object after the\n",
    "object itself and no new object is created ex of mutable data types include lists, dictionaries, and sets."
   ]
  }
 ],
 "metadata": {
  "kernelspec": {
   "display_name": "Python 3 (ipykernel)",
   "language": "python",
   "name": "python3"
  },
  "language_info": {
   "codemirror_mode": {
    "name": "ipython",
    "version": 3
   },
   "file_extension": ".py",
   "mimetype": "text/x-python",
   "name": "python",
   "nbconvert_exporter": "python",
   "pygments_lexer": "ipython3",
   "version": "3.10.8"
  }
 },
 "nbformat": 4,
 "nbformat_minor": 5
}
